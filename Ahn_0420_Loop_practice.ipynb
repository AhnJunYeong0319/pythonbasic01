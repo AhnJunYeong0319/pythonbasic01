{
  "nbformat": 4,
  "nbformat_minor": 0,
  "metadata": {
    "colab": {
      "name": "Ahn_0420_Loop_practice.ipynb",
      "provenance": [],
      "authorship_tag": "ABX9TyPwCxHoyCWrDXxDE4pwLJyq",
      "include_colab_link": true
    },
    "kernelspec": {
      "name": "python3",
      "display_name": "Python 3"
    }
  },
  "cells": [
    {
      "cell_type": "markdown",
      "metadata": {
        "id": "view-in-github",
        "colab_type": "text"
      },
      "source": [
        "<a href=\"https://colab.research.google.com/github/AhnJunYeong0319/pythonbasic01/blob/master/Ahn_0420_Loop_practice.ipynb\" target=\"_parent\"><img src=\"https://colab.research.google.com/assets/colab-badge.svg\" alt=\"Open In Colab\"/></a>"
      ]
    },
    {
      "cell_type": "code",
      "metadata": {
        "id": "6rvgi9-YaGVk",
        "colab_type": "code",
        "colab": {
          "base_uri": "https://localhost:8080/",
          "height": 52
        },
        "outputId": "d9161777-219c-4ecb-bfa7-f1f7d3256a9c"
      },
      "source": [
        "import sympy as sp\n",
        "\n",
        "\n",
        "x = sp.symbols(\"x\")\n",
        "y = x**2 - 1\n",
        "y_prime = sp.diff(y)\n",
        "\n",
        "px = 3\n",
        "count = 0\n",
        "\n",
        "for i in range(1000):\n",
        "  if y.subs(x,px) >= 0.001 :\n",
        "    px = px - y.subs(x,px) / y_prime.subs(x,px)\n",
        "    count = count + 1\n",
        "\n",
        "  else :\n",
        "    print(\"The Optimal Solution of X is\", px)\n",
        "    print(\"It took\", count, \"times to calculate all the process\")\n",
        "    break"
      ],
      "execution_count": 11,
      "outputs": [
        {
          "output_type": "stream",
          "text": [
            "The Optimal Solution of X is 65537/65535\n",
            "It took 4 times to calculate all the process\n"
          ],
          "name": "stdout"
        }
      ]
    },
    {
      "cell_type": "code",
      "metadata": {
        "id": "q5uE7Kg93j2y",
        "colab_type": "code",
        "colab": {}
      },
      "source": [
        ""
      ],
      "execution_count": 0,
      "outputs": []
    }
  ]
}