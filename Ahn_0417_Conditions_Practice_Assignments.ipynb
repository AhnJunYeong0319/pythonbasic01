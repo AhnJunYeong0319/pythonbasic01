{
  "nbformat": 4,
  "nbformat_minor": 0,
  "metadata": {
    "colab": {
      "name": "0417_Conditions_Practice_Assignments.ipynb",
      "provenance": [],
      "authorship_tag": "ABX9TyO4s8JnjH1d7vz4Er0sbn6x",
      "include_colab_link": true
    },
    "kernelspec": {
      "name": "python3",
      "display_name": "Python 3"
    }
  },
  "cells": [
    {
      "cell_type": "markdown",
      "metadata": {
        "id": "view-in-github",
        "colab_type": "text"
      },
      "source": [
        "<a href=\"https://colab.research.google.com/github/AhnJunYeong0319/pythonbasic01/blob/master/0417_Conditions_Practice_Assignments.ipynb\" target=\"_parent\"><img src=\"https://colab.research.google.com/assets/colab-badge.svg\" alt=\"Open In Colab\"/></a>"
      ]
    },
    {
      "cell_type": "code",
      "metadata": {
        "id": "OnMxhNUK4wnU",
        "colab_type": "code",
        "colab": {}
      },
      "source": [
        ""
      ],
      "execution_count": 0,
      "outputs": []
    },
    {
      "cell_type": "markdown",
      "metadata": {
        "id": "cr2Iw98t5lNc",
        "colab_type": "text"
      },
      "source": [
        "Assignment 4-1"
      ]
    },
    {
      "cell_type": "code",
      "metadata": {
        "id": "KU-8YAYJ5mbO",
        "colab_type": "code",
        "colab": {}
      },
      "source": [
        "Dict ={\"Artist\": \"Michael\", \"Genre\": \"R&B\", \"Sales\": 10000}"
      ],
      "execution_count": 0,
      "outputs": []
    },
    {
      "cell_type": "code",
      "metadata": {
        "id": "VkHfRDxa5wvz",
        "colab_type": "code",
        "colab": {
          "base_uri": "https://localhost:8080/",
          "height": 34
        },
        "outputId": "8ebe6baa-6a8a-4aaa-ecac-3c5f854c2747"
      },
      "source": [
        "if Dict[\"Artist\"] == \"Michael\":\n",
        "  print(Dict[\"Genre\"])\n",
        "else: \n",
        "  print(\"None\")"
      ],
      "execution_count": 26,
      "outputs": [
        {
          "output_type": "stream",
          "text": [
            "R&B\n"
          ],
          "name": "stdout"
        }
      ]
    },
    {
      "cell_type": "code",
      "metadata": {
        "id": "aRxTNtYx6FFz",
        "colab_type": "code",
        "colab": {}
      },
      "source": [
        ""
      ],
      "execution_count": 0,
      "outputs": []
    },
    {
      "cell_type": "markdown",
      "metadata": {
        "id": "QvLggJtx7up9",
        "colab_type": "text"
      },
      "source": [
        "Assignment 4-2"
      ]
    },
    {
      "cell_type": "code",
      "metadata": {
        "id": "CFL77ssi7xt7",
        "colab_type": "code",
        "colab": {}
      },
      "source": [
        ""
      ],
      "execution_count": 0,
      "outputs": []
    },
    {
      "cell_type": "code",
      "metadata": {
        "id": "ICcWntv_7ybd",
        "colab_type": "code",
        "colab": {}
      },
      "source": [
        ""
      ],
      "execution_count": 0,
      "outputs": []
    },
    {
      "cell_type": "code",
      "metadata": {
        "id": "j5gQbX-R8i5E",
        "colab_type": "code",
        "colab": {}
      },
      "source": [
        ""
      ],
      "execution_count": 0,
      "outputs": []
    },
    {
      "cell_type": "code",
      "metadata": {
        "id": "tcRmfFEU8i8A",
        "colab_type": "code",
        "colab": {}
      },
      "source": [
        ""
      ],
      "execution_count": 0,
      "outputs": []
    },
    {
      "cell_type": "code",
      "metadata": {
        "id": "XDXVXMHW8i-I",
        "colab_type": "code",
        "colab": {}
      },
      "source": [
        ""
      ],
      "execution_count": 0,
      "outputs": []
    },
    {
      "cell_type": "code",
      "metadata": {
        "id": "3Yr_ytgq8jA3",
        "colab_type": "code",
        "colab": {}
      },
      "source": [
        ""
      ],
      "execution_count": 0,
      "outputs": []
    },
    {
      "cell_type": "code",
      "metadata": {
        "id": "et5jd6fv8jX0",
        "colab_type": "code",
        "colab": {}
      },
      "source": [
        ""
      ],
      "execution_count": 0,
      "outputs": []
    },
    {
      "cell_type": "markdown",
      "metadata": {
        "id": "Kz1tVj4BCX3J",
        "colab_type": "text"
      },
      "source": [
        "2."
      ]
    },
    {
      "cell_type": "code",
      "metadata": {
        "id": "SD298mmO8jfS",
        "colab_type": "code",
        "colab": {}
      },
      "source": [
        "L = [1, 2, 3, 5, 9, 31, 28, 91]"
      ],
      "execution_count": 0,
      "outputs": []
    },
    {
      "cell_type": "code",
      "metadata": {
        "id": "Rkve_iPz8i2U",
        "colab_type": "code",
        "colab": {}
      },
      "source": [
        "n = 0\n",
        "the_sum_of_even = 0\n",
        "the_sum_of_odd = 0"
      ],
      "execution_count": 0,
      "outputs": []
    },
    {
      "cell_type": "code",
      "metadata": {
        "id": "ivSYPetW86Qb",
        "colab_type": "code",
        "colab": {}
      },
      "source": [
        "if n < 8:\n",
        "  if L[n]%2 == 0:\n",
        "    the_sum_of_even = the_sum_of_even + 1\n",
        "    n = n + 1\n",
        "  else :\n",
        "    the_sum_of_odd = the_sum_of_odd + 1\n",
        "    n = n + 1\n",
        "else:\n",
        "  print(the_sum_of_even,the_sum_of_odd)"
      ],
      "execution_count": 0,
      "outputs": []
    },
    {
      "cell_type": "code",
      "metadata": {
        "id": "H4gz6DmB9CbO",
        "colab_type": "code",
        "colab": {}
      },
      "source": [
        ""
      ],
      "execution_count": 0,
      "outputs": []
    },
    {
      "cell_type": "markdown",
      "metadata": {
        "id": "4yaCyv8QCZQs",
        "colab_type": "text"
      },
      "source": [
        "3."
      ]
    },
    {
      "cell_type": "code",
      "metadata": {
        "id": "0jsKP8xRCZlr",
        "colab_type": "code",
        "colab": {}
      },
      "source": [
        "L = [1, 2, 3, 5, 9, 31, 28, 91]"
      ],
      "execution_count": 0,
      "outputs": []
    },
    {
      "cell_type": "code",
      "metadata": {
        "id": "m9LXwjjZCkqn",
        "colab_type": "code",
        "colab": {}
      },
      "source": [
        "n = 0\n",
        "b = 0\n",
        "total = 0"
      ],
      "execution_count": 0,
      "outputs": []
    },
    {
      "cell_type": "code",
      "metadata": {
        "id": "p1FHJeT9DCzW",
        "colab_type": "code",
        "colab": {
          "base_uri": "https://localhost:8080/",
          "height": 34
        },
        "outputId": "c764d15f-4b8e-4c13-86cb-931af5479bc1"
      },
      "source": [
        "for n in range(0,8):\n",
        "  for i in range(2,L[n]):\n",
        "    if L[n]%i==0:\n",
        "      b=1\n",
        "  if b==0:\n",
        "    total = total + 1\n",
        "  else:\n",
        "    total = total\n",
        "print(total)"
      ],
      "execution_count": 32,
      "outputs": [
        {
          "output_type": "stream",
          "text": [
            "4\n"
          ],
          "name": "stdout"
        }
      ]
    },
    {
      "cell_type": "code",
      "metadata": {
        "id": "LiHZPe_iFEgC",
        "colab_type": "code",
        "colab": {}
      },
      "source": [
        ""
      ],
      "execution_count": 0,
      "outputs": []
    }
  ]
}
