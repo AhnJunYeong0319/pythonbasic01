{
 "cells": [
  {
   "cell_type": "markdown",
   "metadata": {},
   "source": [
    "# Homework 1 - Numpy"
   ]
  },
  {
   "cell_type": "markdown",
   "metadata": {},
   "source": [
    "For all the questions, print the results with a variable of your choice (e.g., Z)"
   ]
  },
  {
   "cell_type": "markdown",
   "metadata": {},
   "source": [
    "#### 1. Import the numpy package under the name `np` "
   ]
  },
  {
   "cell_type": "code",
   "execution_count": 24,
   "metadata": {},
   "outputs": [],
   "source": [
    "import numpy as np"
   ]
  },
  {
   "cell_type": "markdown",
   "metadata": {},
   "source": [
    "#### 2. Create a vector with values ranging from 10 to 49 "
   ]
  },
  {
   "cell_type": "code",
   "execution_count": 25,
   "metadata": {},
   "outputs": [
    {
     "name": "stdout",
     "output_type": "stream",
     "text": [
      "[10 11 12 13 14 15 16 17 18 19 20 21 22 23 24 25 26 27 28 29 30 31 32 33\n",
      " 34 35 36 37 38 39 40 41 42 43 44 45 46 47 48 49]\n"
     ]
    }
   ],
   "source": [
    "v2 = (np.arange(10,50))\n",
    "print(v2)"
   ]
  },
  {
   "cell_type": "markdown",
   "metadata": {},
   "source": [
    "#### 3. Reverse a vector (first element becomes last) "
   ]
  },
  {
   "cell_type": "code",
   "execution_count": 26,
   "metadata": {},
   "outputs": [
    {
     "name": "stdout",
     "output_type": "stream",
     "text": [
      "[49 48 47 46 45 44 43 42 41 40 39 38 37 36 35 34 33 32 31 30 29 28 27 26\n",
      " 25 24 23 22 21 20 19 18 17 16 15 14 13 12 11 10]\n"
     ]
    }
   ],
   "source": [
    "v2_r = v2[::-1]\n",
    "print(v2_r)"
   ]
  },
  {
   "cell_type": "markdown",
   "metadata": {},
   "source": [
    "#### 4. Create a 3x3 matrix with values ranging from 0 to 8 "
   ]
  },
  {
   "cell_type": "code",
   "execution_count": 27,
   "metadata": {},
   "outputs": [
    {
     "name": "stdout",
     "output_type": "stream",
     "text": [
      "[[0 1 2]\n",
      " [3 4 5]\n",
      " [6 7 8]]\n"
     ]
    }
   ],
   "source": [
    "v4 = np.arange(0,9).reshape(3,3)\n",
    "print(v4)"
   ]
  },
  {
   "cell_type": "markdown",
   "metadata": {},
   "source": [
    "#### 5. Find indices of non-zero elements from [1,2,0,0,4,0] "
   ]
  },
  {
   "cell_type": "code",
   "execution_count": 28,
   "metadata": {},
   "outputs": [
    {
     "name": "stdout",
     "output_type": "stream",
     "text": [
      "(array([0, 1, 4], dtype=int64),)\n"
     ]
    }
   ],
   "source": [
    "print(np.nonzero([1,2,0,0,4,0]))"
   ]
  },
  {
   "cell_type": "markdown",
   "metadata": {},
   "source": [
    "#### 6. Create a 3x3 identity matrix "
   ]
  },
  {
   "cell_type": "code",
   "execution_count": 29,
   "metadata": {},
   "outputs": [
    {
     "name": "stdout",
     "output_type": "stream",
     "text": [
      "[[1. 0. 0.]\n",
      " [0. 1. 0.]\n",
      " [0. 0. 1.]]\n"
     ]
    }
   ],
   "source": [
    "m6 = np.eye(3)\n",
    "print(m6)"
   ]
  },
  {
   "cell_type": "markdown",
   "metadata": {},
   "source": [
    "#### 7. Create a 3x3x3 array with random values "
   ]
  },
  {
   "cell_type": "code",
   "execution_count": 30,
   "metadata": {},
   "outputs": [
    {
     "name": "stdout",
     "output_type": "stream",
     "text": [
      "[[[0.96037182 0.83398131 0.71287436]\n",
      "  [0.67762028 0.90406517 0.2805614 ]\n",
      "  [0.95548953 0.08189584 0.86467345]]\n",
      "\n",
      " [[0.24961373 0.0446441  0.68934706]\n",
      "  [0.62536536 0.99028089 0.64691736]\n",
      "  [0.00108876 0.91107702 0.19494176]]\n",
      "\n",
      " [[0.2264635  0.71049201 0.77527233]\n",
      "  [0.6012735  0.34531177 0.077758  ]\n",
      "  [0.82799363 0.49355151 0.36943356]]]\n"
     ]
    }
   ],
   "source": [
    "v7 = np.random.rand(3,3,3)\n",
    "print(v7)"
   ]
  },
  {
   "cell_type": "markdown",
   "metadata": {},
   "source": [
    "#### 8. Create a 10x10 array with random values and find the minimum and maximum values "
   ]
  },
  {
   "cell_type": "code",
   "execution_count": 31,
   "metadata": {},
   "outputs": [
    {
     "name": "stdout",
     "output_type": "stream",
     "text": [
      "[[0.03243665 0.91170701 0.99152442 0.30433148 0.03797279 0.76402261\n",
      "  0.33028189 0.61823006 0.68012111 0.55136752]\n",
      " [0.89539    0.62012809 0.54418706 0.36252183 0.54256491 0.26614052\n",
      "  0.15547558 0.75810208 0.3793293  0.46674185]\n",
      " [0.80227756 0.7610674  0.62462059 0.212174   0.20506669 0.4530018\n",
      "  0.86161271 0.41044806 0.23820782 0.36017843]\n",
      " [0.41280435 0.41151665 0.90146402 0.91641376 0.3234977  0.21955388\n",
      "  0.24015982 0.54903935 0.9324785  0.15797903]\n",
      " [0.9517602  0.96737073 0.06893342 0.63931665 0.80977404 0.24440329\n",
      "  0.04264697 0.75396328 0.27574855 0.45241161]\n",
      " [0.46885161 0.48250731 0.21142607 0.79885048 0.14345138 0.91061213\n",
      "  0.61786455 0.5825513  0.41273122 0.22602688]\n",
      " [0.67557048 0.11412997 0.34831581 0.03423982 0.33109878 0.09718543\n",
      "  0.92180632 0.3936883  0.43808765 0.17026855]\n",
      " [0.76070197 0.33517623 0.83764045 0.67539858 0.10804547 0.9004029\n",
      "  0.09957343 0.63586252 0.96085018 0.41484607]\n",
      " [0.58039134 0.02191812 0.00824763 0.19358581 0.49121527 0.98099731\n",
      "  0.12570928 0.34856949 0.7595602  0.74797234]\n",
      " [0.24225135 0.54245374 0.29777015 0.75454025 0.96174465 0.51694846\n",
      "  0.56041204 0.16386895 0.2171433  0.87717121]]\n",
      "The maximum value of the given array : 0.9915244198316686\n",
      "The minimum value of the given array : 0.008247633729132064\n"
     ]
    }
   ],
   "source": [
    "a8 = np.random.rand(10,10)\n",
    "r = a8.shape[0]\n",
    "c = a8.shape[1]\n",
    "print(a8)\n",
    "\n",
    "\n",
    "def maxi(arr,m,n):\n",
    "    maxi = arr[0,0]\n",
    "    for i in range(m):\n",
    "        for j in range(n):\n",
    "            if maxi< arr[i,j]:\n",
    "                maxi = arr[i,j]\n",
    "            else:\n",
    "                maxi = maxi\n",
    "                \n",
    "    return maxi\n",
    "                \n",
    "def mini(arr,m,n):\n",
    "    mini = arr[0,0]\n",
    "    for i in range(m):\n",
    "        for j in range(n):\n",
    "            if mini> arr[i,j]:\n",
    "                mini = arr[i,j]\n",
    "            else:\n",
    "                mini = mini\n",
    "                \n",
    "    return mini\n",
    "\n",
    "print('The maximum value of the given array : {}'.format(maxi(a8,r,c)))\n",
    "\n",
    "print('The minimum value of the given array : {}'.format(mini(a8,r,c)))\n",
    "    "
   ]
  },
  {
   "cell_type": "markdown",
   "metadata": {},
   "source": [
    "#### 9. Create a checkerboard 8x8 matrix using np.array([0,1],[1,0]) and the tile function  "
   ]
  },
  {
   "cell_type": "code",
   "execution_count": 32,
   "metadata": {},
   "outputs": [
    {
     "name": "stdout",
     "output_type": "stream",
     "text": [
      "[[0 1 0 1 0 1 0 1]\n",
      " [1 0 1 0 1 0 1 0]\n",
      " [0 1 0 1 0 1 0 1]\n",
      " [1 0 1 0 1 0 1 0]\n",
      " [0 1 0 1 0 1 0 1]\n",
      " [1 0 1 0 1 0 1 0]\n",
      " [0 1 0 1 0 1 0 1]\n",
      " [1 0 1 0 1 0 1 0]]\n"
     ]
    }
   ],
   "source": [
    "v_9 = np.array(([0,1], [1,0]))\n",
    "v9 = np.tile(v_9,(4,4))\n",
    "print(v9)"
   ]
  },
  {
   "cell_type": "markdown",
   "metadata": {},
   "source": [
    "#### 10. Multiply a 5x3 matrix by a 3x2 matrix (real matrix product) "
   ]
  },
  {
   "cell_type": "code",
   "execution_count": 33,
   "metadata": {},
   "outputs": [
    {
     "name": "stdout",
     "output_type": "stream",
     "text": [
      "[[ 0  1  2]\n",
      " [ 3  4  5]\n",
      " [ 6  7  8]\n",
      " [ 9 10 11]\n",
      " [12 13 14]] [[0 1]\n",
      " [2 3]\n",
      " [4 5]]\n",
      "[[ 10  13]\n",
      " [ 28  40]\n",
      " [ 46  67]\n",
      " [ 64  94]\n",
      " [ 82 121]]\n"
     ]
    }
   ],
   "source": [
    "v10_a = np.arange(15).reshape(5,3)\n",
    "v10_b = np.arange(6).reshape(3,2)\n",
    "\n",
    "print(v10_a, v10_b)\n",
    "\n",
    "innerproduct10 = v10_a.dot(v10_b)\n",
    "print(innerproduct10)"
   ]
  },
  {
   "cell_type": "markdown",
   "metadata": {},
   "source": [
    "#### 11. Create a 5x5 matrix with row values ranging from 0 to 4 using tile function as follows:\n"
   ]
  },
  {
   "cell_type": "raw",
   "metadata": {},
   "source": [
    "array([[0, 1, 2, 3, 4],\n",
    "       [0, 1, 2, 3, 4],\n",
    "       [0, 1, 2, 3, 4],\n",
    "       [0, 1, 2, 3, 4],\n",
    "       [0, 1, 2, 3, 4]])"
   ]
  },
  {
   "cell_type": "code",
   "execution_count": 34,
   "metadata": {},
   "outputs": [
    {
     "name": "stdout",
     "output_type": "stream",
     "text": [
      "[[0 1 2 3 4]\n",
      " [0 1 2 3 4]\n",
      " [0 1 2 3 4]\n",
      " [0 1 2 3 4]\n",
      " [0 1 2 3 4]]\n"
     ]
    }
   ],
   "source": [
    "m_11 = np.arange(5)\n",
    "m11 = np.tile(m_11,(5,1))\n",
    "print(m11)"
   ]
  },
  {
   "cell_type": "markdown",
   "metadata": {},
   "source": [
    "#### 12. Create a 5x5 matrix with row values ranging from 0 to 4 using broadcasting\n"
   ]
  },
  {
   "cell_type": "code",
   "execution_count": 35,
   "metadata": {},
   "outputs": [
    {
     "name": "stdout",
     "output_type": "stream",
     "text": [
      "[[0. 1. 2. 3. 4.]\n",
      " [0. 1. 2. 3. 4.]\n",
      " [0. 1. 2. 3. 4.]\n",
      " [0. 1. 2. 3. 4.]\n",
      " [0. 1. 2. 3. 4.]]\n"
     ]
    }
   ],
   "source": [
    "import numpy as np\n",
    "\n",
    "v12 = np.arange(0,5)\n",
    "mold12 = np.zeros((5,1))\n",
    "v12_broadcasting = v12 + mold12\n",
    "print(v12_broadcasting)\n",
    "    \n",
    "    "
   ]
  },
  {
   "cell_type": "markdown",
   "metadata": {},
   "source": [
    "#### 13. Create a random vector of size 10 and sort it "
   ]
  },
  {
   "cell_type": "code",
   "execution_count": 36,
   "metadata": {},
   "outputs": [
    {
     "name": "stdout",
     "output_type": "stream",
     "text": [
      "[-2.050532728217844, -1.0984326673970788, -0.9253374432461628, -0.8650229606152425, 0.14971042275491486, 0.15573335801723157, 0.3881725419988892, 0.43034219542860935, 0.45898943555835225, 2.170666247169291]\n",
      "[-1.2228585391057558, -0.6656575770868693, -0.49166464393542975, -0.4493350591826831, -0.321715687068393, -0.08668208852623858, 0.424600874563856, 0.6776082229642889, 1.6193300017163597, 1.8172213001973263]\n"
     ]
    }
   ],
   "source": [
    "####built-in version\n",
    "\n",
    "v13 = np.random.randn(10)\n",
    "print(sorted(v13))\n",
    "\n",
    "\n",
    "\n",
    "####without built-in function\n",
    "\n",
    "v13 = np.random.randn(10)\n",
    "new_list = []\n",
    "\n",
    "while any(v13):\n",
    "    minimum = v13[0] \n",
    "    for x in v13: \n",
    "        if x < minimum:\n",
    "            minimum = x\n",
    "    new_list.append(minimum)\n",
    "    v13 = np.delete(v13, np.where(v13==minimum)) \n",
    "\n",
    "print(new_list)"
   ]
  },
  {
   "cell_type": "markdown",
   "metadata": {},
   "source": [
    "#### 14. Subtract the mean of each row\n",
    "\n",
    "X = np.random.rand(5,10)"
   ]
  },
  {
   "cell_type": "code",
   "execution_count": 37,
   "metadata": {},
   "outputs": [
    {
     "name": "stdout",
     "output_type": "stream",
     "text": [
      "[[6.63315347e-01 7.98597219e-01 6.89562682e-01 7.95084440e-01\n",
      "  1.17161915e-01 5.86965520e-01 5.31535685e-01 7.03046440e-01\n",
      "  3.95892372e-01 3.40704201e-01]\n",
      " [5.92951041e-01 2.52096445e-02 5.81643003e-01 6.45773102e-01\n",
      "  1.42610272e-01 6.09028464e-01 3.88987146e-01 9.77634593e-01\n",
      "  2.49165169e-01 8.98455649e-01]\n",
      " [3.60048323e-01 7.83923194e-01 8.61715300e-01 7.02751596e-01\n",
      "  9.07002303e-01 2.62274160e-01 7.34702477e-01 8.37944361e-01\n",
      "  6.92047985e-01 3.70986113e-01]\n",
      " [9.01402286e-01 4.93799043e-01 5.26722883e-01 1.54815161e-01\n",
      "  9.67503437e-01 6.21642983e-01 3.39207778e-01 1.76280318e-01\n",
      "  9.53828360e-01 7.53104197e-01]\n",
      " [2.59593903e-01 2.32009194e-01 1.58500634e-01 7.83798833e-01\n",
      "  2.51434987e-01 3.42929245e-01 5.96063939e-01 2.48972359e-01\n",
      "  6.40479949e-01 4.02938478e-04]]\n",
      "[0.56218658 0.51114581 0.65133958 0.58883064 0.3514186 ]\n"
     ]
    }
   ],
   "source": [
    "X = np.random.rand(5,10)\n",
    "print(X)\n",
    "v14 = np.mean(X, axis=1)\n",
    "print(v14)"
   ]
  },
  {
   "cell_type": "markdown",
   "metadata": {},
   "source": [
    "#### 15. Create, 10 by 10 multiplication table from 1 to 10"
   ]
  },
  {
   "cell_type": "code",
   "execution_count": 38,
   "metadata": {},
   "outputs": [
    {
     "name": "stdout",
     "output_type": "stream",
     "text": [
      "[[  1   2   3   4   5   6   7   8   9  10]\n",
      " [  2   4   6   8  10  12  14  16  18  20]\n",
      " [  3   6   9  12  15  18  21  24  27  30]\n",
      " [  4   8  12  16  20  24  28  32  36  40]\n",
      " [  5  10  15  20  25  30  35  40  45  50]\n",
      " [  6  12  18  24  30  36  42  48  54  60]\n",
      " [  7  14  21  28  35  42  49  56  63  70]\n",
      " [  8  16  24  32  40  48  56  64  72  80]\n",
      " [  9  18  27  36  45  54  63  72  81  90]\n",
      " [ 10  20  30  40  50  60  70  80  90 100]]\n"
     ]
    },
    {
     "data": {
      "text/plain": [
       "array([[  1,   2,   3,   4,   5,   6,   7,   8,   9,  10],\n",
       "       [  2,   4,   6,   8,  10,  12,  14,  16,  18,  20],\n",
       "       [  3,   6,   9,  12,  15,  18,  21,  24,  27,  30],\n",
       "       [  4,   8,  12,  16,  20,  24,  28,  32,  36,  40],\n",
       "       [  5,  10,  15,  20,  25,  30,  35,  40,  45,  50],\n",
       "       [  6,  12,  18,  24,  30,  36,  42,  48,  54,  60],\n",
       "       [  7,  14,  21,  28,  35,  42,  49,  56,  63,  70],\n",
       "       [  8,  16,  24,  32,  40,  48,  56,  64,  72,  80],\n",
       "       [  9,  18,  27,  36,  45,  54,  63,  72,  81,  90],\n",
       "       [ 10,  20,  30,  40,  50,  60,  70,  80,  90, 100]])"
      ]
     },
     "execution_count": 38,
     "metadata": {},
     "output_type": "execute_result"
    }
   ],
   "source": [
    "### for loop\n",
    "t_15 = [i*j for i in range(1,11) for j in range(1,11)]\n",
    "t15 = np.reshape(t_15,(10,10))\n",
    "print(t15)\n",
    "\n",
    "### broadcasting\n",
    "np.arange(1, 11)*np.arange(1, 11).reshape(10, 1)"
   ]
  },
  {
   "cell_type": "markdown",
   "metadata": {},
   "source": [
    "#### 16. How to get the diagonal of a dot product? \n",
    "\n",
    "A = np.random.uniform(0,1,(5,5))\n",
    "B = np.random.uniform(0,1,(5,5))"
   ]
  },
  {
   "cell_type": "code",
   "execution_count": 39,
   "metadata": {},
   "outputs": [
    {
     "name": "stdout",
     "output_type": "stream",
     "text": [
      "[[0.52641633 0.30944814 0.82719345 0.79553709 0.20711403]\n",
      " [0.74387553 0.45330872 0.15357456 0.98980638 0.11471416]\n",
      " [0.14497892 0.40461426 0.70567043 0.58786656 0.45828603]\n",
      " [0.66792054 0.58052    0.48954575 0.33521277 0.57049373]\n",
      " [0.78371962 0.47799066 0.48880473 0.19408071 0.1026956 ]] [[0.47152651 0.38378108 0.49718827 0.30429923 0.96210211]\n",
      " [0.51290084 0.97678775 0.81849209 0.33664817 0.80760171]\n",
      " [0.65142027 0.84294584 0.70480288 0.27463512 0.573429  ]\n",
      " [0.30238703 0.79936853 0.58884182 0.76585049 0.23990234]\n",
      " [0.1341831  0.24402331 0.32610776 0.35773424 0.30147836]]\n",
      "[[1.21413735 0.         0.         0.         0.        ]\n",
      " [0.         1.67693979 0.         0.         0.        ]\n",
      " [0.         0.         1.396225   0.         0.        ]\n",
      " [0.         0.         0.         0.99393316 0.        ]\n",
      " [0.         0.         0.         0.         1.4978601 ]]\n"
     ]
    }
   ],
   "source": [
    "A = np.random.uniform(0,1,(5,5))\n",
    "B = np.random.uniform(0,1,(5,5))\n",
    "print(A, B)\n",
    "\n",
    "v16 = np.diag(np.diag(A.dot(B)))\n",
    "print(v16)"
   ]
  },
  {
   "cell_type": "markdown",
   "metadata": {},
   "source": [
    "#### 17. Consider the vector [1, 2, 3, 4, 5], how to build a new vector with 3 consecutive zeros interleaved between each value?"
   ]
  },
  {
   "cell_type": "code",
   "execution_count": 40,
   "metadata": {},
   "outputs": [
    {
     "name": "stdout",
     "output_type": "stream",
     "text": [
      "[1 0 0 0 2 0 0 0 3 0 0 0 4 0 0 0 5]\n",
      "[1, 0, 0, 0, 2, 0, 0, 0, 3, 0, 0, 0, 4, 0, 0, 0, 5]\n"
     ]
    }
   ],
   "source": [
    "##version 1\n",
    "#####################\n",
    "import numpy as np\n",
    "\n",
    "v_17 = np.array([1,2,3,4,5])\n",
    "\n",
    "for k in range(4) :\n",
    "    idx_ = np.nonzero(v_17)\n",
    "    idx_v = idx_[0]\n",
    "    idx = idx_v[k]\n",
    "    a = v_17[:idx+1]\n",
    "    b = v_17[idx+1:]\n",
    "    a = np.append(a, [0,0,0])\n",
    "    v_17 = np.append(a, b)\n",
    "    \n",
    "print(v_17)\n",
    "\n",
    "##version 2\n",
    "######################\n",
    "\n",
    "list1 = [1, 2, 3, 4, 5]\n",
    "list2 = []\n",
    "for i in range(len(list1)):\n",
    "    list2.append(list1[i])\n",
    "    if i < 4:\n",
    "        for i in range(3):\n",
    "            list2.append(0)\n",
    "print(list2)"
   ]
  },
  {
   "cell_type": "markdown",
   "metadata": {},
   "source": [
    "#### 18. Consider two arrays A and B of shape (8,3) and (2,2). How to find rows of A that contain elements of each row of B regardless of the order of the elements in B?\n",
    "\n",
    "A = np.random.randint(0,5,(8,3))\n",
    "B = np.random.randint(0,5,(2,2))"
   ]
  },
  {
   "cell_type": "code",
   "execution_count": null,
   "metadata": {},
   "outputs": [],
   "source": []
  },
  {
   "cell_type": "markdown",
   "metadata": {},
   "source": [
    "#### 19. How to swap two rows of an array? Generate an array from 0 to 24, and reshape it 5 by 5 and swap first two rows of the array"
   ]
  },
  {
   "cell_type": "code",
   "execution_count": 41,
   "metadata": {},
   "outputs": [
    {
     "name": "stdout",
     "output_type": "stream",
     "text": [
      "[[ 0  1  2  3  4]\n",
      " [ 5  6  7  8  9]\n",
      " [10 11 12 13 14]\n",
      " [15 16 17 18 19]\n",
      " [20 21 22 23 24]]\n",
      "[[ 5  6  7  8  9]\n",
      " [ 0  1  2  3  4]\n",
      " [10 11 12 13 14]\n",
      " [15 16 17 18 19]\n",
      " [20 21 22 23 24]]\n"
     ]
    }
   ],
   "source": [
    "v_19 = np.arange(25).reshape(5,5)\n",
    "print(v_19)\n",
    "\n",
    "v_19[[0, 1]] = v_19[[1, 0]]\n",
    "print(v_19)\n"
   ]
  },
  {
   "cell_type": "markdown",
   "metadata": {},
   "source": [
    "#### 20. How to find the most frequent value in an array? \n",
    "\n",
    "Z = np.random.randint(0,10,50). hint: np.bincount, np.argmax"
   ]
  },
  {
   "cell_type": "code",
   "execution_count": 42,
   "metadata": {},
   "outputs": [
    {
     "name": "stdout",
     "output_type": "stream",
     "text": [
      "[6 9 0 8 2 2 7 2 7 2 7 1 8 5 6 3 9 4 1 3 3 4 5 0 2 1 5 4 7 9 5 8 3 4 1 6 9\n",
      " 6 3 4 6 3 4 4 7 3 0 1 8 9]\n",
      "[3 5 5 7 7 4 5 5 4 5]\n",
      "3\n"
     ]
    }
   ],
   "source": [
    "Z = np.random.randint(0,10,50)\n",
    "print(Z)\n",
    "counts = np.bincount(Z)\n",
    "print(counts)\n",
    "print(np.argmax(counts))"
   ]
  },
  {
   "cell_type": "markdown",
   "metadata": {},
   "source": [
    "#### 21. How to get the n largest values of an array?\n",
    "\n",
    "start with \n",
    "Z = np.arange(10000);\n",
    "np.random.shuffle(Z)\n",
    ", Hint: np.argsort"
   ]
  },
  {
   "cell_type": "code",
   "execution_count": 44,
   "metadata": {},
   "outputs": [
    {
     "name": "stdout",
     "output_type": "stream",
     "text": [
      "3\n",
      "[4118 8458 9116 ... 2004  453 1154]\n",
      "[ 311  717 5552 ... 2274 8964 8411]\n",
      "The n largest values are : [9999, 9998, 9997]\n"
     ]
    }
   ],
   "source": [
    "import numpy as np\n",
    "\n",
    "n = int(input())\n",
    "Z = np.arange(10000)\n",
    "np.random.shuffle(Z)\n",
    "print(Z)\n",
    "\n",
    "idx21 = np.argsort(Z)[::-1]\n",
    "print(idx21)\n",
    "a21 = [Z[idx21[k]] for k in range(n)]\n",
    "\n",
    "print('The n largest values are : {}' .format(a21))"
   ]
  },
  {
   "cell_type": "markdown",
   "metadata": {},
   "source": [
    "#### 22. Given a two dimensional array, how to extract unique rows? \n",
    "\n",
    "Hint: np.unique"
   ]
  },
  {
   "cell_type": "code",
   "execution_count": 45,
   "metadata": {},
   "outputs": [
    {
     "data": {
      "text/plain": [
       "array([[1, 0, 0],\n",
       "       [2, 3, 4]])"
      ]
     },
     "execution_count": 45,
     "metadata": {},
     "output_type": "execute_result"
    }
   ],
   "source": [
    "##designate a22 as the array which has redundant rows for convenience in understanding\n",
    "\n",
    "import numpy as np\n",
    "\n",
    "a22 = np.array([[1, 0, 0], [1, 0, 0], [2, 3, 4]])\n",
    "np.unique(a22, axis=0)"
   ]
  },
  {
   "cell_type": "markdown",
   "metadata": {},
   "source": [
    "#### 23. How to compute averages using a sliding window over an array? \n",
    "\n",
    "make a function with two arguments, arry and size of the sliding window, def moving_avg(arr, n)\n"
   ]
  },
  {
   "cell_type": "code",
   "execution_count": 46,
   "metadata": {},
   "outputs": [
    {
     "data": {
      "text/plain": [
       "[1.5, 2.5, 3.5, 4.5]"
      ]
     },
     "execution_count": 46,
     "metadata": {},
     "output_type": "execute_result"
    }
   ],
   "source": [
    "def moving_avg(arr, n):\n",
    "    \n",
    "    a = []\n",
    "    for k in range(len(arr) -n +1):\n",
    "        a.append(sum(arr[k:k+n])/len(arr[k:k+n]))\n",
    "    \n",
    "    return a\n",
    "\n",
    "moving_avg([1,2,3,4,5], 2)"
   ]
  },
  {
   "cell_type": "markdown",
   "metadata": {},
   "source": [
    "#### 24. Find the indices of elements from 4 by 4 random matrix (0-1) which are larger than 0.5\n",
    "\n",
    "Print a list of tuples indicating the index for row and column\n"
   ]
  },
  {
   "cell_type": "code",
   "execution_count": 49,
   "metadata": {},
   "outputs": [
    {
     "name": "stdout",
     "output_type": "stream",
     "text": [
      "[[0.78060432 0.1553034  0.46266725 0.49414842]\n",
      " [0.52141347 0.73400429 0.55196254 0.47358254]\n",
      " [0.08452746 0.87992933 0.6171145  0.06383984]\n",
      " [0.20459217 0.00231952 0.01751412 0.2077822 ]]\n",
      "[(0, 0), (1, 0), (1, 1), (1, 2), (2, 1), (2, 2)]\n"
     ]
    }
   ],
   "source": [
    "v_24 = np.random.rand(16).reshape(4,4)\n",
    "print(v_24)\n",
    "\n",
    "idx = (v_24>0.5).nonzero()\n",
    "\n",
    "v24 = [*zip(idx[0],idx[1])]\n",
    "print(v24)"
   ]
  },
  {
   "cell_type": "markdown",
   "metadata": {},
   "source": [
    "#### 25. Write a function returning distance between two points"
   ]
  },
  {
   "cell_type": "raw",
   "metadata": {},
   "source": [
    "Test the function to check whether function is working correctly\n",
    "Hint: There are two arguments of function indicating two points"
   ]
  },
  {
   "cell_type": "code",
   "execution_count": 60,
   "metadata": {},
   "outputs": [
    {
     "data": {
      "text/plain": [
       "2.23606797749979"
      ]
     },
     "execution_count": 60,
     "metadata": {},
     "output_type": "execute_result"
    }
   ],
   "source": [
    "import math\n",
    "\n",
    "a = [2,5]\n",
    "b = [1,3]\n",
    "\n",
    "def distnce(m, n):\n",
    "    \n",
    "    distance = math.sqrt( ( ( float( a[0] )-float( b[0] ) )**2 )+( ( float( a[1] )-float( b[1] ) )**2) )\n",
    "    return distance  \n",
    "    \n",
    "    \n",
    "distnce(a, b)\n",
    "    "
   ]
  }
 ],
 "metadata": {
  "kernelspec": {
   "display_name": "Python 3",
   "language": "python",
   "name": "python3"
  },
  "language_info": {
   "codemirror_mode": {
    "name": "ipython",
    "version": 3
   },
   "file_extension": ".py",
   "mimetype": "text/x-python",
   "name": "python",
   "nbconvert_exporter": "python",
   "pygments_lexer": "ipython3",
   "version": "3.8.3"
  }
 },
 "nbformat": 4,
 "nbformat_minor": 4
}
