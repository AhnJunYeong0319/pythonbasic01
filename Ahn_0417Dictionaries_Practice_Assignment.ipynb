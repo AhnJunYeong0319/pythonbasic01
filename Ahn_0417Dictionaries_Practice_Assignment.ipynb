{
  "nbformat": 4,
  "nbformat_minor": 0,
  "metadata": {
    "colab": {
      "name": "Ahn_0417Dictionaries_Practice_Assignment.ipynb",
      "provenance": [],
      "authorship_tag": "ABX9TyMyuSuMdpq2jMjiLZjaF/lM",
      "include_colab_link": true
    },
    "kernelspec": {
      "name": "python3",
      "display_name": "Python 3"
    }
  },
  "cells": [
    {
      "cell_type": "markdown",
      "metadata": {
        "id": "view-in-github",
        "colab_type": "text"
      },
      "source": [
        "<a href=\"https://colab.research.google.com/github/AhnJunYeong0319/pythonbasic01/blob/master/Ahn_0417Dictionaries_Practice_Assignment.ipynb\" target=\"_parent\"><img src=\"https://colab.research.google.com/assets/colab-badge.svg\" alt=\"Open In Colab\"/></a>"
      ]
    },
    {
      "cell_type": "code",
      "metadata": {
        "id": "ooNvBFRQ07mC",
        "colab_type": "code",
        "colab": {}
      },
      "source": [
        " soundtrack_dic = {\"Young Jesus\":\"2005\", \"Homicide\":\"2019\", \"1-800-273-8255\":\"2017\"}"
      ],
      "execution_count": 0,
      "outputs": []
    },
    {
      "cell_type": "code",
      "metadata": {
        "id": "y0UgfOKc4Mwi",
        "colab_type": "code",
        "colab": {
          "base_uri": "https://localhost:8080/",
          "height": 34
        },
        "outputId": "f9483d4f-9bef-4139-c61d-da8d41bf12e4"
      },
      "source": [
        "print(soundtrack_dic.keys())"
      ],
      "execution_count": 2,
      "outputs": [
        {
          "output_type": "stream",
          "text": [
            "dict_keys(['Young Jesus', 'Homicide', '1-800-273-8255'])\n"
          ],
          "name": "stdout"
        }
      ]
    },
    {
      "cell_type": "code",
      "metadata": {
        "id": "aSLGE7x24Sya",
        "colab_type": "code",
        "colab": {
          "base_uri": "https://localhost:8080/",
          "height": 34
        },
        "outputId": "9570d934-f223-4556-e2ae-494ed8deeeb1"
      },
      "source": [
        "print(soundtrack_dic.values())"
      ],
      "execution_count": 3,
      "outputs": [
        {
          "output_type": "stream",
          "text": [
            "dict_values(['2005', '2019', '2017'])\n"
          ],
          "name": "stdout"
        }
      ]
    },
    {
      "cell_type": "code",
      "metadata": {
        "id": "Mq7xg9zC4gYv",
        "colab_type": "code",
        "colab": {}
      },
      "source": [
        ""
      ],
      "execution_count": 0,
      "outputs": []
    }
  ]
}