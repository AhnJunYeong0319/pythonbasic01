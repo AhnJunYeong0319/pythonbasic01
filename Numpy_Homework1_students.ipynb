{
 "cells": [
  {
   "cell_type": "markdown",
   "metadata": {},
   "source": [
    "# Homework 1 - Numpy"
   ]
  },
  {
   "cell_type": "markdown",
   "metadata": {},
   "source": [
    "For all the questions, print the results with a variable of your choice (e.g., Z)"
   ]
  },
  {
   "cell_type": "markdown",
   "metadata": {},
   "source": [
    "#### 1. Import the numpy package under the name `np` "
   ]
  },
  {
   "cell_type": "code",
   "execution_count": 1,
   "metadata": {},
   "outputs": [],
   "source": [
    "import numpy as np"
   ]
  },
  {
   "cell_type": "markdown",
   "metadata": {},
   "source": [
    "#### 2. Create a vector with values ranging from 10 to 49 "
   ]
  },
  {
   "cell_type": "code",
   "execution_count": 3,
   "metadata": {},
   "outputs": [
    {
     "name": "stdout",
     "output_type": "stream",
     "text": [
      "[10 11 12 13 14 15 16 17 18 19 20 21 22 23 24 25 26 27 28 29 30 31 32 33\n",
      " 34 35 36 37 38 39 40 41 42 43 44 45 46 47 48 49]\n"
     ]
    }
   ],
   "source": [
    "v2 = (np.arange(10,50))\n",
    "print(v2)"
   ]
  },
  {
   "cell_type": "markdown",
   "metadata": {},
   "source": [
    "#### 3. Reverse a vector (first element becomes last) "
   ]
  },
  {
   "cell_type": "code",
   "execution_count": 4,
   "metadata": {},
   "outputs": [
    {
     "name": "stdout",
     "output_type": "stream",
     "text": [
      "[49 48 47 46 45 44 43 42 41 40 39 38 37 36 35 34 33 32 31 30 29 28 27 26\n",
      " 25 24 23 22 21 20 19 18 17 16 15 14 13 12 11 10]\n"
     ]
    }
   ],
   "source": [
    "v2_r = v2[::-1]\n",
    "print(v2_r)"
   ]
  },
  {
   "cell_type": "markdown",
   "metadata": {},
   "source": [
    "#### 4. Create a 3x3 matrix with values ranging from 0 to 8 "
   ]
  },
  {
   "cell_type": "code",
   "execution_count": 5,
   "metadata": {},
   "outputs": [
    {
     "name": "stdout",
     "output_type": "stream",
     "text": [
      "[[0 1 2]\n",
      " [3 4 5]\n",
      " [6 7 8]]\n"
     ]
    }
   ],
   "source": [
    "v4 = np.arange(0,9).reshape(3,3)\n",
    "print(v4)"
   ]
  },
  {
   "cell_type": "markdown",
   "metadata": {},
   "source": [
    "#### 5. Find indices of non-zero elements from [1,2,0,0,4,0] "
   ]
  },
  {
   "cell_type": "code",
   "execution_count": 6,
   "metadata": {},
   "outputs": [
    {
     "name": "stdout",
     "output_type": "stream",
     "text": [
      "(array([0, 1, 4], dtype=int64),)\n"
     ]
    }
   ],
   "source": [
    "print(np.nonzero([1,2,0,0,4,0]))"
   ]
  },
  {
   "cell_type": "markdown",
   "metadata": {},
   "source": [
    "#### 6. Create a 3x3 identity matrix "
   ]
  },
  {
   "cell_type": "code",
   "execution_count": 7,
   "metadata": {},
   "outputs": [
    {
     "name": "stdout",
     "output_type": "stream",
     "text": [
      "[[1. 0. 0.]\n",
      " [0. 1. 0.]\n",
      " [0. 0. 1.]]\n"
     ]
    }
   ],
   "source": [
    "m6 = np.eye(3)\n",
    "print(m6)"
   ]
  },
  {
   "cell_type": "markdown",
   "metadata": {},
   "source": [
    "#### 7. Create a 3x3x3 array with random values "
   ]
  },
  {
   "cell_type": "code",
   "execution_count": 8,
   "metadata": {},
   "outputs": [
    {
     "name": "stdout",
     "output_type": "stream",
     "text": [
      "[[[0.14615307 0.06456692 0.72553962]\n",
      "  [0.67158007 0.95976864 0.64631333]\n",
      "  [0.93501885 0.68469624 0.14417364]]\n",
      "\n",
      " [[0.36270309 0.65920183 0.85508002]\n",
      "  [0.18215199 0.00833646 0.43604768]\n",
      "  [0.25780075 0.28215192 0.39364496]]\n",
      "\n",
      " [[0.17043029 0.57431033 0.68267043]\n",
      "  [0.94407909 0.11464601 0.40539698]\n",
      "  [0.3124196  0.6069794  0.57055172]]]\n"
     ]
    }
   ],
   "source": [
    "v7 = np.random.rand(3,3,3)\n",
    "print(v7)"
   ]
  },
  {
   "cell_type": "markdown",
   "metadata": {},
   "source": [
    "#### 8. Create a 10x10 array with random values and find the minimum and maximum values "
   ]
  },
  {
   "cell_type": "code",
   "execution_count": 28,
   "metadata": {},
   "outputs": [
    {
     "ename": "SyntaxError",
     "evalue": "invalid syntax (<ipython-input-28-2968432b508e>, line 6)",
     "output_type": "error",
     "traceback": [
      "\u001b[1;36m  File \u001b[1;32m\"<ipython-input-28-2968432b508e>\"\u001b[1;36m, line \u001b[1;32m6\u001b[0m\n\u001b[1;33m    for i in range n\u001b[0m\n\u001b[1;37m                   ^\u001b[0m\n\u001b[1;31mSyntaxError\u001b[0m\u001b[1;31m:\u001b[0m invalid syntax\n"
     ]
    }
   ],
   "source": [
    "v8 = np.random.rand(10,10)\n",
    "n = len(v8)\n",
    "print(v8)\n",
    "\n",
    "def maxi(v, n, m):\n",
    "    \n",
    "    \n",
    "def mini(v, n):\n",
    "    if n ==1:\n",
    "        return v8[0]\n",
    "    max_n_1 = mini(v8, n-1)\n",
    "    if max_n_1 > v8[n-1]:\n",
    "        return max_n_1\n",
    "    else:\n",
    "        return v8[n-1]"
   ]
  },
  {
   "cell_type": "markdown",
   "metadata": {},
   "source": [
    "#### 9. Create a checkerboard 8x8 matrix using np.array([0,1],[1,0]) and the tile function  "
   ]
  },
  {
   "cell_type": "code",
   "execution_count": 21,
   "metadata": {},
   "outputs": [
    {
     "name": "stdout",
     "output_type": "stream",
     "text": [
      "[[0 1 0 1 0 1 0 1]\n",
      " [1 0 1 0 1 0 1 0]\n",
      " [0 1 0 1 0 1 0 1]\n",
      " [1 0 1 0 1 0 1 0]\n",
      " [0 1 0 1 0 1 0 1]\n",
      " [1 0 1 0 1 0 1 0]\n",
      " [0 1 0 1 0 1 0 1]\n",
      " [1 0 1 0 1 0 1 0]]\n"
     ]
    }
   ],
   "source": [
    "v_9 = np.array(([0,1], [1,0]))\n",
    "v9 = np.tile(v_9,(4,4))\n",
    "print(v9)"
   ]
  },
  {
   "cell_type": "markdown",
   "metadata": {},
   "source": [
    "#### 10. Multiply a 5x3 matrix by a 3x2 matrix (real matrix product) "
   ]
  },
  {
   "cell_type": "code",
   "execution_count": 22,
   "metadata": {},
   "outputs": [
    {
     "name": "stdout",
     "output_type": "stream",
     "text": [
      "[[ 0  1  2]\n",
      " [ 3  4  5]\n",
      " [ 6  7  8]\n",
      " [ 9 10 11]\n",
      " [12 13 14]] [[0 1]\n",
      " [2 3]\n",
      " [4 5]]\n",
      "[[ 10  13]\n",
      " [ 28  40]\n",
      " [ 46  67]\n",
      " [ 64  94]\n",
      " [ 82 121]]\n"
     ]
    }
   ],
   "source": [
    "v10_a = np.arange(15).reshape(5,3)\n",
    "v10_b = np.arange(6).reshape(3,2)\n",
    "\n",
    "print(v10_a, v10_b)\n",
    "\n",
    "innerproduct10 = v10_a.dot(v10_b)\n",
    "print(innerproduct10)"
   ]
  },
  {
   "cell_type": "markdown",
   "metadata": {},
   "source": [
    "#### 11. Create a 5x5 matrix with row values ranging from 0 to 4 using tile function as follows:\n"
   ]
  },
  {
   "cell_type": "raw",
   "metadata": {},
   "source": [
    "array([[0, 1, 2, 3, 4],\n",
    "       [0, 1, 2, 3, 4],\n",
    "       [0, 1, 2, 3, 4],\n",
    "       [0, 1, 2, 3, 4],\n",
    "       [0, 1, 2, 3, 4]])"
   ]
  },
  {
   "cell_type": "code",
   "execution_count": 68,
   "metadata": {},
   "outputs": [
    {
     "name": "stdout",
     "output_type": "stream",
     "text": [
      "[[0 1 2 3 4]\n",
      " [0 1 2 3 4]\n",
      " [0 1 2 3 4]\n",
      " [0 1 2 3 4]\n",
      " [0 1 2 3 4]]\n"
     ]
    }
   ],
   "source": [
    "m_11 = np.arange(5)\n",
    "m11 = np.tile(m_11,(5,1))\n",
    "print(m11)"
   ]
  },
  {
   "cell_type": "markdown",
   "metadata": {},
   "source": [
    "#### 12. Create a 5x5 matrix with row values ranging from 0 to 4 using broadcasting\n"
   ]
  },
  {
   "cell_type": "code",
   "execution_count": null,
   "metadata": {},
   "outputs": [],
   "source": [
    "v12 = [] \n",
    "v_12 = np.arange(25).reshape(5,5)\n",
    "print(v12, v_12)\n",
    "for k in range(0,25) :\n",
    "    \n",
    "    "
   ]
  },
  {
   "cell_type": "markdown",
   "metadata": {},
   "source": [
    "#### 13. Create a random vector of size 10 and sort it "
   ]
  },
  {
   "cell_type": "code",
   "execution_count": 67,
   "metadata": {},
   "outputs": [
    {
     "name": "stdout",
     "output_type": "stream",
     "text": [
      "[-2.482091296716108, -1.3192865663994, -0.3739989609346384, -0.13602608232486166, -0.06474222480721392, 0.34931485014475205, 0.3682715631151103, 0.803551577769007, 1.2160173650880666, 1.6364037394562387]\n",
      "[-1.556656583759207, -1.0681373478917244, -0.28271148077993996, -0.19535237537078579, 0.004124406073502934, 0.07082215248277726, 0.1845979816199203, 0.7864168241576236, 0.7959885196093576, 1.222441188280355]\n"
     ]
    }
   ],
   "source": [
    "####built-in version\n",
    "\n",
    "v13 = np.random.randn(10)\n",
    "print(sorted(v13))\n",
    "\n",
    "\n",
    "\n",
    "####without built-in function\n",
    "\n",
    "v13 = np.random.randn(10)\n",
    "new_list = []\n",
    "\n",
    "while any(v13):\n",
    "    minimum = v13[0] \n",
    "    for x in v13: \n",
    "        if x < minimum:\n",
    "            minimum = x\n",
    "    new_list.append(minimum)\n",
    "    v13 = np.delete(v13, np.where(v13==minimum)) \n",
    "\n",
    "print(new_list)"
   ]
  },
  {
   "cell_type": "markdown",
   "metadata": {},
   "source": [
    "#### 14. Subtract the mean of each row\n",
    "\n",
    "X = np.random.rand(5,10)"
   ]
  },
  {
   "cell_type": "code",
   "execution_count": 26,
   "metadata": {},
   "outputs": [
    {
     "name": "stdout",
     "output_type": "stream",
     "text": [
      "[[0.94298333 0.92681726 0.02834386 0.13556644 0.14426386 0.9518215\n",
      "  0.34910829 0.34314727 0.08656843 0.74960996]\n",
      " [0.08438204 0.80448398 0.09377835 0.09665793 0.25781691 0.6499493\n",
      "  0.23053885 0.29829761 0.91701176 0.67133639]\n",
      " [0.72138552 0.28245268 0.14832644 0.51956483 0.76172625 0.01380845\n",
      "  0.88260349 0.69331663 0.85574665 0.30200535]\n",
      " [0.22524371 0.51370183 0.03129776 0.86991335 0.80759427 0.06939645\n",
      "  0.08140217 0.47061937 0.31767234 0.26435399]\n",
      " [0.92433165 0.68621326 0.79085643 0.98897695 0.59026636 0.71012813\n",
      "  0.69401448 0.23228655 0.7851159  0.28398598]]\n",
      "[0.46582302 0.41042531 0.51809363 0.36511952 0.66861757]\n"
     ]
    }
   ],
   "source": [
    "X = np.random.rand(5,10)\n",
    "print(X)\n",
    "v14 = np.mean(X, axis=1)\n",
    "print(v14)"
   ]
  },
  {
   "cell_type": "markdown",
   "metadata": {},
   "source": [
    "#### 15. Create, 10 by 10 multiplication table from 1 to 10"
   ]
  },
  {
   "cell_type": "code",
   "execution_count": 82,
   "metadata": {},
   "outputs": [
    {
     "name": "stdout",
     "output_type": "stream",
     "text": [
      "[[  1   2   3   4   5   6   7   8   9  10]\n",
      " [  2   4   6   8  10  12  14  16  18  20]\n",
      " [  3   6   9  12  15  18  21  24  27  30]\n",
      " [  4   8  12  16  20  24  28  32  36  40]\n",
      " [  5  10  15  20  25  30  35  40  45  50]\n",
      " [  6  12  18  24  30  36  42  48  54  60]\n",
      " [  7  14  21  28  35  42  49  56  63  70]\n",
      " [  8  16  24  32  40  48  56  64  72  80]\n",
      " [  9  18  27  36  45  54  63  72  81  90]\n",
      " [ 10  20  30  40  50  60  70  80  90 100]]\n"
     ]
    },
    {
     "data": {
      "text/plain": [
       "array([[  1,   2,   3,   4,   5,   6,   7,   8,   9,  10],\n",
       "       [  2,   4,   6,   8,  10,  12,  14,  16,  18,  20],\n",
       "       [  3,   6,   9,  12,  15,  18,  21,  24,  27,  30],\n",
       "       [  4,   8,  12,  16,  20,  24,  28,  32,  36,  40],\n",
       "       [  5,  10,  15,  20,  25,  30,  35,  40,  45,  50],\n",
       "       [  6,  12,  18,  24,  30,  36,  42,  48,  54,  60],\n",
       "       [  7,  14,  21,  28,  35,  42,  49,  56,  63,  70],\n",
       "       [  8,  16,  24,  32,  40,  48,  56,  64,  72,  80],\n",
       "       [  9,  18,  27,  36,  45,  54,  63,  72,  81,  90],\n",
       "       [ 10,  20,  30,  40,  50,  60,  70,  80,  90, 100]])"
      ]
     },
     "execution_count": 82,
     "metadata": {},
     "output_type": "execute_result"
    }
   ],
   "source": [
    "### for loop\n",
    "t_15 = [i*j for i in range(1,11) for j in range(1,11)]\n",
    "t15 = np.reshape(t_15,(10,10))\n",
    "print(t15)\n",
    "\n",
    "### broadcasting\n",
    "np.arange(1, 11)*np.arange(1, 11).reshape(10, 1)"
   ]
  },
  {
   "cell_type": "markdown",
   "metadata": {},
   "source": [
    "#### 16. How to get the diagonal of a dot product? \n",
    "\n",
    "A = np.random.uniform(0,1,(5,5))\n",
    "B = np.random.uniform(0,1,(5,5))"
   ]
  },
  {
   "cell_type": "code",
   "execution_count": 41,
   "metadata": {},
   "outputs": [
    {
     "name": "stdout",
     "output_type": "stream",
     "text": [
      "[[0.74707288 0.45815986 0.8745611  0.57269657 0.83555392]\n",
      " [0.49374675 0.03096268 0.60528482 0.50003261 0.78627128]\n",
      " [0.8838792  0.89664136 0.86336024 0.61243795 0.40418737]\n",
      " [0.88040718 0.43748845 0.54918751 0.10668524 0.14000917]\n",
      " [0.72787568 0.42523342 0.91767084 0.81426141 0.16646906]] [[0.62428109 0.8577788  0.38956918 0.84029028 0.86847917]\n",
      " [0.79780105 0.62645848 0.67764367 0.99577738 0.36018271]\n",
      " [0.2562614  0.49368809 0.33583718 0.94434907 0.8329944 ]\n",
      " [0.19265897 0.84871941 0.72142992 0.43222741 0.4958473 ]\n",
      " [0.1808704  0.33433853 0.87597654 0.66201488 0.21898035]]\n",
      "[[1.31748224 0.         0.         0.         0.        ]\n",
      " [0.         1.4290124  0.         0.         0.        ]\n",
      " [0.         0.         2.03777361 0.         0.        ]\n",
      " [0.         0.         0.         1.83286386 0.        ]\n",
      " [0.         0.         0.         0.         1.98992404]]\n"
     ]
    }
   ],
   "source": [
    "A = np.random.uniform(0,1,(5,5))\n",
    "B = np.random.uniform(0,1,(5,5))\n",
    "print(A, B)\n",
    "\n",
    "v16 = np.diag(np.diag(A.dot(B)))\n",
    "print(v16)"
   ]
  },
  {
   "cell_type": "markdown",
   "metadata": {},
   "source": [
    "#### 17. Consider the vector [1, 2, 3, 4, 5], how to build a new vector with 3 consecutive zeros interleaved between each value?"
   ]
  },
  {
   "cell_type": "code",
   "execution_count": 18,
   "metadata": {},
   "outputs": [
    {
     "name": "stdout",
     "output_type": "stream",
     "text": [
      "[1 0 0 0 2 0 0 0 3 0 0 0 4 0 0 0 5]\n",
      "[1, 0, 0, 0, 2, 0, 0, 0, 3, 0, 0, 0, 4, 0, 0, 0, 5]\n"
     ]
    }
   ],
   "source": [
    "##version 1\n",
    "#####################\n",
    "import numpy as np\n",
    "\n",
    "v_17 = np.array([1,2,3,4,5])\n",
    "\n",
    "for k in range(4) :\n",
    "    idx_ = np.nonzero(v_17)\n",
    "    idx_v = idx_[0]\n",
    "    idx = idx_v[k]\n",
    "    a = v_17[:idx+1]\n",
    "    b = v_17[idx+1:]\n",
    "    a = np.append(a, [0,0,0])\n",
    "    v_17 = np.append(a, b)\n",
    "    \n",
    "print(v_17)\n",
    "\n",
    "##version 2\n",
    "######################\n",
    "\n",
    "list1 = [1, 2, 3, 4, 5]\n",
    "list2 = []\n",
    "for i in range(len(list1)):\n",
    "    list2.append(list1[i])\n",
    "    if i < 4:\n",
    "        for i in range(3):\n",
    "            list2.append(0)\n",
    "print(list2)"
   ]
  },
  {
   "cell_type": "markdown",
   "metadata": {},
   "source": [
    "#### 18. Consider two arrays A and B of shape (8,3) and (2,2). How to find rows of A that contain elements of each row of B regardless of the order of the elements in B?\n",
    "\n",
    "A = np.random.randint(0,5,(8,3))\n",
    "B = np.random.randint(0,5,(2,2))"
   ]
  },
  {
   "cell_type": "code",
   "execution_count": null,
   "metadata": {},
   "outputs": [],
   "source": []
  },
  {
   "cell_type": "markdown",
   "metadata": {},
   "source": [
    "#### 19. How to swap two rows of an array? Generate an array from 0 to 24, and reshape it 5 by 5 and swap first two rows of the array"
   ]
  },
  {
   "cell_type": "code",
   "execution_count": 76,
   "metadata": {},
   "outputs": [
    {
     "name": "stdout",
     "output_type": "stream",
     "text": [
      "[[ 0  1  2  3  4]\n",
      " [ 5  6  7  8  9]\n",
      " [10 11 12 13 14]\n",
      " [15 16 17 18 19]\n",
      " [20 21 22 23 24]]\n",
      "[[ 5  6  7  8  9]\n",
      " [ 0  1  2  3  4]\n",
      " [10 11 12 13 14]\n",
      " [15 16 17 18 19]\n",
      " [20 21 22 23 24]]\n"
     ]
    }
   ],
   "source": [
    "v_19 = np.arange(25).reshape(5,5)\n",
    "print(v_19)\n",
    "\n",
    "v_19[[0, 1]] = v_19[[1, 0]]\n",
    "print(v_19)\n"
   ]
  },
  {
   "cell_type": "markdown",
   "metadata": {},
   "source": [
    "#### 20. How to find the most frequent value in an array? \n",
    "\n",
    "Z = np.random.randint(0,10,50). hint: np.bincount, np.argmax"
   ]
  },
  {
   "cell_type": "code",
   "execution_count": 81,
   "metadata": {},
   "outputs": [
    {
     "name": "stdout",
     "output_type": "stream",
     "text": [
      "[3 5 1 8 1 0 4 5 4 9 5 8 5 0 4 1 4 7 5 0 0 7 0 7 0 3 4 2 1 6 7 9 2 9 1 3 9\n",
      " 6 3 4 9 9 0 5 3 2 2 5 6 6]\n",
      "[7 5 4 5 6 7 4 4 2 6]\n",
      "0\n"
     ]
    }
   ],
   "source": [
    "Z = np.random.randint(0,10,50)\n",
    "print(Z)\n",
    "counts = np.bincount(Z)\n",
    "print(counts)\n",
    "print(np.argmax(counts))"
   ]
  },
  {
   "cell_type": "markdown",
   "metadata": {},
   "source": [
    "#### 21. How to get the n largest values of an array?\n",
    "\n",
    "start with \n",
    "Z = np.arange(10000);\n",
    "np.random.shuffle(Z)\n",
    ", Hint: np.argsort"
   ]
  },
  {
   "cell_type": "code",
   "execution_count": 31,
   "metadata": {},
   "outputs": [
    {
     "name": "stdout",
     "output_type": "stream",
     "text": [
      "3\n",
      "[ 463 5121 2319 ... 7032 4852 9854]\n",
      "[6289 1633 9210 ... 9173 6459 4528]\n",
      "The n largest values are : [9999, 9998, 9997]\n"
     ]
    }
   ],
   "source": [
    "import numpy as np\n",
    "\n",
    "n = int(input())\n",
    "Z = np.arange(10000)\n",
    "np.random.shuffle(Z)\n",
    "print(Z)\n",
    "\n",
    "idx21 = np.argsort(Z)[::-1]\n",
    "print(idx21)\n",
    "a21 = [Z[idx21[k]] for k in range(n)]\n",
    "\n",
    "print('The n largest values are : {}' .format(a21))"
   ]
  },
  {
   "cell_type": "markdown",
   "metadata": {},
   "source": [
    "#### 22. Given a two dimensional array, how to extract unique rows? \n",
    "\n",
    "Hint: np.unique"
   ]
  },
  {
   "cell_type": "code",
   "execution_count": null,
   "metadata": {},
   "outputs": [],
   "source": []
  },
  {
   "cell_type": "markdown",
   "metadata": {},
   "source": [
    "#### 23. How to compute averages using a sliding window over an array? \n",
    "\n",
    "make a function with two arguments, arry and size of the sliding window, def moving_avg(arr, n)\n"
   ]
  },
  {
   "cell_type": "code",
   "execution_count": null,
   "metadata": {},
   "outputs": [],
   "source": [
    "def moving_avg(arr, n):\n",
    "    \n",
    "    "
   ]
  },
  {
   "cell_type": "markdown",
   "metadata": {},
   "source": [
    "#### 24. Find the indices of elements from 4 by 4 random matrix (0-1) which are larger than 0.5\n",
    "\n",
    "Print a list of tuples indicating the index for row and column\n"
   ]
  },
  {
   "cell_type": "code",
   "execution_count": 88,
   "metadata": {},
   "outputs": [
    {
     "name": "stdout",
     "output_type": "stream",
     "text": [
      "[(0, 1), (0, 2), (1, 1), (1, 2), (2, 1), (2, 2), (2, 3), (3, 1)]\n"
     ]
    }
   ],
   "source": [
    "v_24 = np.random.rand(16).reshape(4,4)\n",
    "idx = (v_24>0.5).nonzero()\n",
    "\n",
    "v24 = [*zip(idx[0],idx[1])]\n",
    "print(v24)"
   ]
  },
  {
   "cell_type": "markdown",
   "metadata": {},
   "source": [
    "#### 25. Write a function returning distance between two points"
   ]
  },
  {
   "cell_type": "raw",
   "metadata": {},
   "source": [
    "Test the function to check whether function is working correctly\n",
    "Hint: There are two arguments of function indicating two points"
   ]
  },
  {
   "cell_type": "code",
   "execution_count": 17,
   "metadata": {},
   "outputs": [
    {
     "ename": "KeyboardInterrupt",
     "evalue": "Interrupted by user",
     "output_type": "error",
     "traceback": [
      "\u001b[1;31m---------------------------------------------------------------------------\u001b[0m",
      "\u001b[1;31mKeyboardInterrupt\u001b[0m                         Traceback (most recent call last)",
      "\u001b[1;32m<ipython-input-17-ad0aac8d4f5d>\u001b[0m in \u001b[0;36m<module>\u001b[1;34m\u001b[0m\n\u001b[0;32m      1\u001b[0m \u001b[1;32mimport\u001b[0m \u001b[0mmath\u001b[0m\u001b[1;33m\u001b[0m\u001b[1;33m\u001b[0m\u001b[0m\n\u001b[0;32m      2\u001b[0m \u001b[1;33m\u001b[0m\u001b[0m\n\u001b[1;32m----> 3\u001b[1;33m \u001b[0ma\u001b[0m \u001b[1;33m=\u001b[0m \u001b[0minput\u001b[0m\u001b[1;33m(\u001b[0m\u001b[1;33m)\u001b[0m\u001b[1;33m\u001b[0m\u001b[1;33m\u001b[0m\u001b[0m\n\u001b[0m\u001b[0;32m      4\u001b[0m \u001b[0mb\u001b[0m \u001b[1;33m=\u001b[0m \u001b[0minput\u001b[0m\u001b[1;33m(\u001b[0m\u001b[1;33m)\u001b[0m\u001b[1;33m\u001b[0m\u001b[1;33m\u001b[0m\u001b[0m\n\u001b[0;32m      5\u001b[0m \u001b[1;33m\u001b[0m\u001b[0m\n",
      "\u001b[1;32m~\\anaconda3\\lib\\site-packages\\ipykernel\\kernelbase.py\u001b[0m in \u001b[0;36mraw_input\u001b[1;34m(self, prompt)\u001b[0m\n\u001b[0;32m    858\u001b[0m                 \u001b[1;34m\"raw_input was called, but this frontend does not support input requests.\"\u001b[0m\u001b[1;33m\u001b[0m\u001b[1;33m\u001b[0m\u001b[0m\n\u001b[0;32m    859\u001b[0m             )\n\u001b[1;32m--> 860\u001b[1;33m         return self._input_request(str(prompt),\n\u001b[0m\u001b[0;32m    861\u001b[0m             \u001b[0mself\u001b[0m\u001b[1;33m.\u001b[0m\u001b[0m_parent_ident\u001b[0m\u001b[1;33m,\u001b[0m\u001b[1;33m\u001b[0m\u001b[1;33m\u001b[0m\u001b[0m\n\u001b[0;32m    862\u001b[0m             \u001b[0mself\u001b[0m\u001b[1;33m.\u001b[0m\u001b[0m_parent_header\u001b[0m\u001b[1;33m,\u001b[0m\u001b[1;33m\u001b[0m\u001b[1;33m\u001b[0m\u001b[0m\n",
      "\u001b[1;32m~\\anaconda3\\lib\\site-packages\\ipykernel\\kernelbase.py\u001b[0m in \u001b[0;36m_input_request\u001b[1;34m(self, prompt, ident, parent, password)\u001b[0m\n\u001b[0;32m    902\u001b[0m             \u001b[1;32mexcept\u001b[0m \u001b[0mKeyboardInterrupt\u001b[0m\u001b[1;33m:\u001b[0m\u001b[1;33m\u001b[0m\u001b[1;33m\u001b[0m\u001b[0m\n\u001b[0;32m    903\u001b[0m                 \u001b[1;31m# re-raise KeyboardInterrupt, to truncate traceback\u001b[0m\u001b[1;33m\u001b[0m\u001b[1;33m\u001b[0m\u001b[1;33m\u001b[0m\u001b[0m\n\u001b[1;32m--> 904\u001b[1;33m                 \u001b[1;32mraise\u001b[0m \u001b[0mKeyboardInterrupt\u001b[0m\u001b[1;33m(\u001b[0m\u001b[1;34m\"Interrupted by user\"\u001b[0m\u001b[1;33m)\u001b[0m \u001b[1;32mfrom\u001b[0m \u001b[1;32mNone\u001b[0m\u001b[1;33m\u001b[0m\u001b[1;33m\u001b[0m\u001b[0m\n\u001b[0m\u001b[0;32m    905\u001b[0m             \u001b[1;32mexcept\u001b[0m \u001b[0mException\u001b[0m \u001b[1;32mas\u001b[0m \u001b[0me\u001b[0m\u001b[1;33m:\u001b[0m\u001b[1;33m\u001b[0m\u001b[1;33m\u001b[0m\u001b[0m\n\u001b[0;32m    906\u001b[0m                 \u001b[0mself\u001b[0m\u001b[1;33m.\u001b[0m\u001b[0mlog\u001b[0m\u001b[1;33m.\u001b[0m\u001b[0mwarning\u001b[0m\u001b[1;33m(\u001b[0m\u001b[1;34m\"Invalid Message:\"\u001b[0m\u001b[1;33m,\u001b[0m \u001b[0mexc_info\u001b[0m\u001b[1;33m=\u001b[0m\u001b[1;32mTrue\u001b[0m\u001b[1;33m)\u001b[0m\u001b[1;33m\u001b[0m\u001b[1;33m\u001b[0m\u001b[0m\n",
      "\u001b[1;31mKeyboardInterrupt\u001b[0m: Interrupted by user"
     ]
    }
   ],
   "source": [
    "import math\n",
    "\n",
    "a = input()\n",
    "b = input()\n",
    "\n",
    "def distnce(m, n):\n",
    "    \n",
    "    y = math.sqrt((int(a[0])-int(b[0]))**2 + (a[1]-b[1])**2)\n",
    "    return y  \n",
    "    \n",
    "    \n",
    "distnce(a, b)\n",
    "    "
   ]
  }
 ],
 "metadata": {
  "kernelspec": {
   "display_name": "Python 3",
   "language": "python",
   "name": "python3"
  },
  "language_info": {
   "codemirror_mode": {
    "name": "ipython",
    "version": 3
   },
   "file_extension": ".py",
   "mimetype": "text/x-python",
   "name": "python",
   "nbconvert_exporter": "python",
   "pygments_lexer": "ipython3",
   "version": "3.8.3"
  }
 },
 "nbformat": 4,
 "nbformat_minor": 4
}
