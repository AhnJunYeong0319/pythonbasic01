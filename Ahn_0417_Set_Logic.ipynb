{
  "nbformat": 4,
  "nbformat_minor": 0,
  "metadata": {
    "colab": {
      "name": "Ahn_0417_Set_Logic.ipynb",
      "provenance": [],
      "authorship_tag": "ABX9TyP6m2r0ketU/ko5dRI9IRWg",
      "include_colab_link": true
    },
    "kernelspec": {
      "name": "python3",
      "display_name": "Python 3"
    }
  },
  "cells": [
    {
      "cell_type": "markdown",
      "metadata": {
        "id": "view-in-github",
        "colab_type": "text"
      },
      "source": [
        "<a href=\"https://colab.research.google.com/github/AhnJunYeong0319/pythonbasic01/blob/master/Ahn_0417_Set_Logic.ipynb\" target=\"_parent\"><img src=\"https://colab.research.google.com/assets/colab-badge.svg\" alt=\"Open In Colab\"/></a>"
      ]
    },
    {
      "cell_type": "code",
      "metadata": {
        "id": "Yf7mnduS6Tib",
        "colab_type": "code",
        "colab": {}
      },
      "source": [
        ""
      ],
      "execution_count": 0,
      "outputs": []
    },
    {
      "cell_type": "markdown",
      "metadata": {
        "id": "1ITn9ji7J98z",
        "colab_type": "text"
      },
      "source": [
        "Assignment3"
      ]
    },
    {
      "cell_type": "markdown",
      "metadata": {
        "id": "T0jTlHp7J6QC",
        "colab_type": "text"
      },
      "source": [
        "1."
      ]
    },
    {
      "cell_type": "code",
      "metadata": {
        "id": "iO9HPefcKAY5",
        "colab_type": "code",
        "colab": {}
      },
      "source": [
        "set1 = set( ['rap','house','electronic music', 'rap'])"
      ],
      "execution_count": 0,
      "outputs": []
    },
    {
      "cell_type": "code",
      "metadata": {
        "id": "So3cNttDKDpB",
        "colab_type": "code",
        "colab": {
          "base_uri": "https://localhost:8080/",
          "height": 34
        },
        "outputId": "e3339e8f-795e-4352-a4e2-4b377525d41b"
      },
      "source": [
        "set1"
      ],
      "execution_count": 2,
      "outputs": [
        {
          "output_type": "execute_result",
          "data": {
            "text/plain": [
              "{'electronic music', 'house', 'rap'}"
            ]
          },
          "metadata": {
            "tags": []
          },
          "execution_count": 2
        }
      ]
    },
    {
      "cell_type": "code",
      "metadata": {
        "id": "fUrqs-k1KF4c",
        "colab_type": "code",
        "colab": {}
      },
      "source": [
        ""
      ],
      "execution_count": 0,
      "outputs": []
    },
    {
      "cell_type": "markdown",
      "metadata": {
        "id": "lFePMBSPKQQz",
        "colab_type": "text"
      },
      "source": [
        "2."
      ]
    },
    {
      "cell_type": "code",
      "metadata": {
        "id": "deIWQAUoKQxl",
        "colab_type": "code",
        "colab": {}
      },
      "source": [
        " A = [1, 2, 2, 1]"
      ],
      "execution_count": 0,
      "outputs": []
    },
    {
      "cell_type": "code",
      "metadata": {
        "id": "vbBWldoOKUpv",
        "colab_type": "code",
        "colab": {}
      },
      "source": [
        "B = set([1, 2, 2, 1])"
      ],
      "execution_count": 0,
      "outputs": []
    },
    {
      "cell_type": "code",
      "metadata": {
        "id": "mOlp4OFuKU5E",
        "colab_type": "code",
        "colab": {
          "base_uri": "https://localhost:8080/",
          "height": 34
        },
        "outputId": "b61b84ab-4a75-42e4-9885-84208ee66509"
      },
      "source": [
        "sum(A) == sum(B)"
      ],
      "execution_count": 7,
      "outputs": [
        {
          "output_type": "execute_result",
          "data": {
            "text/plain": [
              "False"
            ]
          },
          "metadata": {
            "tags": []
          },
          "execution_count": 7
        }
      ]
    },
    {
      "cell_type": "markdown",
      "metadata": {
        "id": "MW8Kb3UOKlhC",
        "colab_type": "text"
      },
      "source": [
        "3."
      ]
    },
    {
      "cell_type": "code",
      "metadata": {
        "id": "Sj4Nd4TrKWkc",
        "colab_type": "code",
        "colab": {}
      },
      "source": [
        "album_set1 = set([\"Thriller\", 'AC/DC', 'Back in Black'])"
      ],
      "execution_count": 0,
      "outputs": []
    },
    {
      "cell_type": "code",
      "metadata": {
        "id": "QSMfSMV4KX1a",
        "colab_type": "code",
        "colab": {}
      },
      "source": [
        "album_set2 = set([ \"AC/DC\", \"Back in Black\", \"The Dark Side of the Moon\"])"
      ],
      "execution_count": 0,
      "outputs": []
    },
    {
      "cell_type": "code",
      "metadata": {
        "id": "vgekExhUK3Az",
        "colab_type": "code",
        "colab": {}
      },
      "source": [
        "album_set3 = album_set1.union(album_set2)"
      ],
      "execution_count": 0,
      "outputs": []
    },
    {
      "cell_type": "code",
      "metadata": {
        "id": "AyW6unuxLBR0",
        "colab_type": "code",
        "colab": {
          "base_uri": "https://localhost:8080/",
          "height": 34
        },
        "outputId": "1a3693fd-1ca6-4c45-f10b-87ead3cff021"
      },
      "source": [
        "print(album_set3)"
      ],
      "execution_count": 11,
      "outputs": [
        {
          "output_type": "stream",
          "text": [
            "{'Back in Black', 'The Dark Side of the Moon', 'AC/DC', 'Thriller'}\n"
          ],
          "name": "stdout"
        }
      ]
    },
    {
      "cell_type": "code",
      "metadata": {
        "id": "ZVnr9kmgLDzg",
        "colab_type": "code",
        "colab": {}
      },
      "source": [
        ""
      ],
      "execution_count": 0,
      "outputs": []
    },
    {
      "cell_type": "markdown",
      "metadata": {
        "id": "BhvLx9t6LidM",
        "colab_type": "text"
      },
      "source": [
        "4."
      ]
    },
    {
      "cell_type": "code",
      "metadata": {
        "id": "nvW-QpbuLiu6",
        "colab_type": "code",
        "colab": {
          "base_uri": "https://localhost:8080/",
          "height": 34
        },
        "outputId": "7308ce9d-8b33-4cd4-8a49-0eae070e0c27"
      },
      "source": [
        "if album_set1.issubset(album_set3):\n",
        "  print(\"album_set1 is subset of album_set3\")\n",
        "else:\n",
        "  print(\"album_set1 is subset of album_set3\")"
      ],
      "execution_count": 12,
      "outputs": [
        {
          "output_type": "stream",
          "text": [
            "album_set1 is subset of album_set3\n"
          ],
          "name": "stdout"
        }
      ]
    },
    {
      "cell_type": "code",
      "metadata": {
        "id": "U4H9SZDmLxds",
        "colab_type": "code",
        "colab": {}
      },
      "source": [
        ""
      ],
      "execution_count": 0,
      "outputs": []
    }
  ]
}